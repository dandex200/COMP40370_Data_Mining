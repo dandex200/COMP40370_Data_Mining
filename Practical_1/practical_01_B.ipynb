{
 "cells": [
  {
   "cell_type": "markdown",
   "metadata": {},
   "source": [
    "# COMP40370 Practical 1 (Part B)\n",
    "\n",
    "***"
   ]
  },
  {
   "cell_type": "markdown",
   "metadata": {},
   "source": [
    "### Imports"
   ]
  },
  {
   "cell_type": "code",
   "execution_count": 1,
   "metadata": {},
   "outputs": [],
   "source": [
    "import pandas as pd\n",
    "from scipy.stats import kurtosis, skew\n",
    "import matplotlib.pyplot as plt\n",
    "import seaborn as sns\n",
    "import numpy as np\n",
    "import statsmodels.api as sm"
   ]
  },
  {
   "cell_type": "markdown",
   "metadata": {},
   "source": [
    "***\n",
    "\n",
    "## Question 1: Outliers removal and transformation\n",
    "\n",
    "***"
   ]
  },
  {
   "cell_type": "markdown",
   "metadata": {},
   "source": [
    "> Read in diabetes.csv"
   ]
  },
  {
   "cell_type": "code",
   "execution_count": 2,
   "metadata": {},
   "outputs": [
    {
     "data": {
      "text/html": [
       "<div>\n",
       "<style scoped>\n",
       "    .dataframe tbody tr th:only-of-type {\n",
       "        vertical-align: middle;\n",
       "    }\n",
       "\n",
       "    .dataframe tbody tr th {\n",
       "        vertical-align: top;\n",
       "    }\n",
       "\n",
       "    .dataframe thead th {\n",
       "        text-align: right;\n",
       "    }\n",
       "</style>\n",
       "<table border=\"1\" class=\"dataframe\">\n",
       "  <thead>\n",
       "    <tr style=\"text-align: right;\">\n",
       "      <th></th>\n",
       "      <th>Pregnancies</th>\n",
       "      <th>Glucose</th>\n",
       "      <th>BloodPressure</th>\n",
       "      <th>SkinThickness</th>\n",
       "      <th>Insulin</th>\n",
       "      <th>BMI</th>\n",
       "      <th>DiabetesPedigreeFunction</th>\n",
       "      <th>Age</th>\n",
       "      <th>Outcome</th>\n",
       "    </tr>\n",
       "  </thead>\n",
       "  <tbody>\n",
       "    <tr>\n",
       "      <th>0</th>\n",
       "      <td>6</td>\n",
       "      <td>148</td>\n",
       "      <td>72.0</td>\n",
       "      <td>35</td>\n",
       "      <td>0</td>\n",
       "      <td>33.6</td>\n",
       "      <td>0.627</td>\n",
       "      <td>50</td>\n",
       "      <td>1</td>\n",
       "    </tr>\n",
       "    <tr>\n",
       "      <th>1</th>\n",
       "      <td>1</td>\n",
       "      <td>85</td>\n",
       "      <td>66.0</td>\n",
       "      <td>29</td>\n",
       "      <td>0</td>\n",
       "      <td>26.6</td>\n",
       "      <td>0.351</td>\n",
       "      <td>31</td>\n",
       "      <td>0</td>\n",
       "    </tr>\n",
       "    <tr>\n",
       "      <th>2</th>\n",
       "      <td>8</td>\n",
       "      <td>183</td>\n",
       "      <td>64.0</td>\n",
       "      <td>0</td>\n",
       "      <td>0</td>\n",
       "      <td>23.3</td>\n",
       "      <td>0.672</td>\n",
       "      <td>32</td>\n",
       "      <td>1</td>\n",
       "    </tr>\n",
       "    <tr>\n",
       "      <th>3</th>\n",
       "      <td>1</td>\n",
       "      <td>89</td>\n",
       "      <td>66.0</td>\n",
       "      <td>23</td>\n",
       "      <td>94</td>\n",
       "      <td>28.1</td>\n",
       "      <td>0.167</td>\n",
       "      <td>21</td>\n",
       "      <td>0</td>\n",
       "    </tr>\n",
       "    <tr>\n",
       "      <th>4</th>\n",
       "      <td>0</td>\n",
       "      <td>137</td>\n",
       "      <td>40.0</td>\n",
       "      <td>35</td>\n",
       "      <td>168</td>\n",
       "      <td>43.1</td>\n",
       "      <td>2.288</td>\n",
       "      <td>15</td>\n",
       "      <td>1</td>\n",
       "    </tr>\n",
       "    <tr>\n",
       "      <th>...</th>\n",
       "      <td>...</td>\n",
       "      <td>...</td>\n",
       "      <td>...</td>\n",
       "      <td>...</td>\n",
       "      <td>...</td>\n",
       "      <td>...</td>\n",
       "      <td>...</td>\n",
       "      <td>...</td>\n",
       "      <td>...</td>\n",
       "    </tr>\n",
       "    <tr>\n",
       "      <th>783</th>\n",
       "      <td>8</td>\n",
       "      <td>107</td>\n",
       "      <td>80.0</td>\n",
       "      <td>0</td>\n",
       "      <td>0</td>\n",
       "      <td>24.6</td>\n",
       "      <td>0.856</td>\n",
       "      <td>34</td>\n",
       "      <td>0</td>\n",
       "    </tr>\n",
       "    <tr>\n",
       "      <th>784</th>\n",
       "      <td>13</td>\n",
       "      <td>158</td>\n",
       "      <td>114.0</td>\n",
       "      <td>0</td>\n",
       "      <td>0</td>\n",
       "      <td>42.3</td>\n",
       "      <td>0.257</td>\n",
       "      <td>44</td>\n",
       "      <td>1</td>\n",
       "    </tr>\n",
       "    <tr>\n",
       "      <th>785</th>\n",
       "      <td>2</td>\n",
       "      <td>121</td>\n",
       "      <td>70.0</td>\n",
       "      <td>32</td>\n",
       "      <td>95</td>\n",
       "      <td>39.1</td>\n",
       "      <td>0.886</td>\n",
       "      <td>23</td>\n",
       "      <td>0</td>\n",
       "    </tr>\n",
       "    <tr>\n",
       "      <th>786</th>\n",
       "      <td>7</td>\n",
       "      <td>129</td>\n",
       "      <td>68.0</td>\n",
       "      <td>49</td>\n",
       "      <td>125</td>\n",
       "      <td>38.5</td>\n",
       "      <td>0.439</td>\n",
       "      <td>43</td>\n",
       "      <td>1</td>\n",
       "    </tr>\n",
       "    <tr>\n",
       "      <th>787</th>\n",
       "      <td>2</td>\n",
       "      <td>90</td>\n",
       "      <td>60.0</td>\n",
       "      <td>0</td>\n",
       "      <td>0</td>\n",
       "      <td>23.5</td>\n",
       "      <td>0.191</td>\n",
       "      <td>25</td>\n",
       "      <td>0</td>\n",
       "    </tr>\n",
       "  </tbody>\n",
       "</table>\n",
       "<p>788 rows × 9 columns</p>\n",
       "</div>"
      ],
      "text/plain": [
       "     Pregnancies  Glucose  BloodPressure  SkinThickness  Insulin   BMI  \\\n",
       "0              6      148           72.0             35        0  33.6   \n",
       "1              1       85           66.0             29        0  26.6   \n",
       "2              8      183           64.0              0        0  23.3   \n",
       "3              1       89           66.0             23       94  28.1   \n",
       "4              0      137           40.0             35      168  43.1   \n",
       "..           ...      ...            ...            ...      ...   ...   \n",
       "783            8      107           80.0              0        0  24.6   \n",
       "784           13      158          114.0              0        0  42.3   \n",
       "785            2      121           70.0             32       95  39.1   \n",
       "786            7      129           68.0             49      125  38.5   \n",
       "787            2       90           60.0              0        0  23.5   \n",
       "\n",
       "     DiabetesPedigreeFunction  Age  Outcome  \n",
       "0                       0.627   50        1  \n",
       "1                       0.351   31        0  \n",
       "2                       0.672   32        1  \n",
       "3                       0.167   21        0  \n",
       "4                       2.288   15        1  \n",
       "..                        ...  ...      ...  \n",
       "783                     0.856   34        0  \n",
       "784                     0.257   44        1  \n",
       "785                     0.886   23        0  \n",
       "786                     0.439   43        1  \n",
       "787                     0.191   25        0  \n",
       "\n",
       "[788 rows x 9 columns]"
      ]
     },
     "execution_count": 2,
     "metadata": {},
     "output_type": "execute_result"
    }
   ],
   "source": [
    "df = pd.read_csv('diabetes.csv')\n",
    "df"
   ]
  },
  {
   "cell_type": "markdown",
   "metadata": {},
   "source": [
    "####  &#x2611; A. What are the kurtosis and skewness values of the Insulin attribute?"
   ]
  },
  {
   "cell_type": "code",
   "execution_count": 3,
   "metadata": {},
   "outputs": [
    {
     "name": "stdout",
     "output_type": "stream",
     "text": [
      "Insulin Kurtosis: 7.212285.\n",
      "Insulin Skewness: 2.264073.\n"
     ]
    }
   ],
   "source": [
    "print(\"Insulin Kurtosis: %f.\" % (kurtosis(df['Insulin'])))\n",
    "print(\"Insulin Skewness: %f.\" % (skew(df['Insulin'])))"
   ]
  },
  {
   "cell_type": "markdown",
   "metadata": {},
   "source": [
    "Kurtosis measures how symmetrical the values are and skewness measures how skewed either way (positively or negatively) values that aren't symmetrical are. \n",
    "\n",
    "The pandas kurtosis() formula is: kurtosis = (sum((x - mean) ** 4) / n) / (standard deviation ** 4). \n",
    "The pandas skew() formula is: skewness = (3 * (mean - median)) / standard deviation"
   ]
  },
  {
   "cell_type": "markdown",
   "metadata": {},
   "source": [
    "####  &#x2611; B. Filter the dataframe and select only the rows where Insulin is not equal to 0, and use the new version (filtered dataframe) for the rest of the practical\n",
    "\n"
   ]
  },
  {
   "cell_type": "code",
   "execution_count": 4,
   "metadata": {},
   "outputs": [
    {
     "data": {
      "text/html": [
       "<div>\n",
       "<style scoped>\n",
       "    .dataframe tbody tr th:only-of-type {\n",
       "        vertical-align: middle;\n",
       "    }\n",
       "\n",
       "    .dataframe tbody tr th {\n",
       "        vertical-align: top;\n",
       "    }\n",
       "\n",
       "    .dataframe thead th {\n",
       "        text-align: right;\n",
       "    }\n",
       "</style>\n",
       "<table border=\"1\" class=\"dataframe\">\n",
       "  <thead>\n",
       "    <tr style=\"text-align: right;\">\n",
       "      <th></th>\n",
       "      <th>Pregnancies</th>\n",
       "      <th>Glucose</th>\n",
       "      <th>BloodPressure</th>\n",
       "      <th>SkinThickness</th>\n",
       "      <th>Insulin</th>\n",
       "      <th>BMI</th>\n",
       "      <th>DiabetesPedigreeFunction</th>\n",
       "      <th>Age</th>\n",
       "      <th>Outcome</th>\n",
       "    </tr>\n",
       "  </thead>\n",
       "  <tbody>\n",
       "    <tr>\n",
       "      <th>0</th>\n",
       "      <td>1</td>\n",
       "      <td>89</td>\n",
       "      <td>66.0</td>\n",
       "      <td>23</td>\n",
       "      <td>94</td>\n",
       "      <td>28.1</td>\n",
       "      <td>0.167</td>\n",
       "      <td>21</td>\n",
       "      <td>0</td>\n",
       "    </tr>\n",
       "    <tr>\n",
       "      <th>1</th>\n",
       "      <td>0</td>\n",
       "      <td>137</td>\n",
       "      <td>40.0</td>\n",
       "      <td>35</td>\n",
       "      <td>168</td>\n",
       "      <td>43.1</td>\n",
       "      <td>2.288</td>\n",
       "      <td>15</td>\n",
       "      <td>1</td>\n",
       "    </tr>\n",
       "    <tr>\n",
       "      <th>2</th>\n",
       "      <td>3</td>\n",
       "      <td>78</td>\n",
       "      <td>50.0</td>\n",
       "      <td>32</td>\n",
       "      <td>88</td>\n",
       "      <td>31.0</td>\n",
       "      <td>0.248</td>\n",
       "      <td>26</td>\n",
       "      <td>1</td>\n",
       "    </tr>\n",
       "    <tr>\n",
       "      <th>3</th>\n",
       "      <td>2</td>\n",
       "      <td>197</td>\n",
       "      <td>70.0</td>\n",
       "      <td>45</td>\n",
       "      <td>543</td>\n",
       "      <td>30.5</td>\n",
       "      <td>0.158</td>\n",
       "      <td>53</td>\n",
       "      <td>1</td>\n",
       "    </tr>\n",
       "    <tr>\n",
       "      <th>4</th>\n",
       "      <td>1</td>\n",
       "      <td>189</td>\n",
       "      <td>60.0</td>\n",
       "      <td>23</td>\n",
       "      <td>846</td>\n",
       "      <td>30.1</td>\n",
       "      <td>0.398</td>\n",
       "      <td>59</td>\n",
       "      <td>1</td>\n",
       "    </tr>\n",
       "    <tr>\n",
       "      <th>...</th>\n",
       "      <td>...</td>\n",
       "      <td>...</td>\n",
       "      <td>...</td>\n",
       "      <td>...</td>\n",
       "      <td>...</td>\n",
       "      <td>...</td>\n",
       "      <td>...</td>\n",
       "      <td>...</td>\n",
       "      <td>...</td>\n",
       "    </tr>\n",
       "    <tr>\n",
       "      <th>399</th>\n",
       "      <td>2</td>\n",
       "      <td>129</td>\n",
       "      <td>74.0</td>\n",
       "      <td>26</td>\n",
       "      <td>205</td>\n",
       "      <td>33.2</td>\n",
       "      <td>0.591</td>\n",
       "      <td>25</td>\n",
       "      <td>0</td>\n",
       "    </tr>\n",
       "    <tr>\n",
       "      <th>400</th>\n",
       "      <td>1</td>\n",
       "      <td>140</td>\n",
       "      <td>74.0</td>\n",
       "      <td>26</td>\n",
       "      <td>180</td>\n",
       "      <td>24.1</td>\n",
       "      <td>0.828</td>\n",
       "      <td>23</td>\n",
       "      <td>0</td>\n",
       "    </tr>\n",
       "    <tr>\n",
       "      <th>401</th>\n",
       "      <td>1</td>\n",
       "      <td>144</td>\n",
       "      <td>82.0</td>\n",
       "      <td>46</td>\n",
       "      <td>180</td>\n",
       "      <td>46.1</td>\n",
       "      <td>0.335</td>\n",
       "      <td>46</td>\n",
       "      <td>1</td>\n",
       "    </tr>\n",
       "    <tr>\n",
       "      <th>402</th>\n",
       "      <td>2</td>\n",
       "      <td>121</td>\n",
       "      <td>70.0</td>\n",
       "      <td>32</td>\n",
       "      <td>95</td>\n",
       "      <td>39.1</td>\n",
       "      <td>0.886</td>\n",
       "      <td>23</td>\n",
       "      <td>0</td>\n",
       "    </tr>\n",
       "    <tr>\n",
       "      <th>403</th>\n",
       "      <td>7</td>\n",
       "      <td>129</td>\n",
       "      <td>68.0</td>\n",
       "      <td>49</td>\n",
       "      <td>125</td>\n",
       "      <td>38.5</td>\n",
       "      <td>0.439</td>\n",
       "      <td>43</td>\n",
       "      <td>1</td>\n",
       "    </tr>\n",
       "  </tbody>\n",
       "</table>\n",
       "<p>404 rows × 9 columns</p>\n",
       "</div>"
      ],
      "text/plain": [
       "     Pregnancies  Glucose  BloodPressure  SkinThickness  Insulin   BMI  \\\n",
       "0              1       89           66.0             23       94  28.1   \n",
       "1              0      137           40.0             35      168  43.1   \n",
       "2              3       78           50.0             32       88  31.0   \n",
       "3              2      197           70.0             45      543  30.5   \n",
       "4              1      189           60.0             23      846  30.1   \n",
       "..           ...      ...            ...            ...      ...   ...   \n",
       "399            2      129           74.0             26      205  33.2   \n",
       "400            1      140           74.0             26      180  24.1   \n",
       "401            1      144           82.0             46      180  46.1   \n",
       "402            2      121           70.0             32       95  39.1   \n",
       "403            7      129           68.0             49      125  38.5   \n",
       "\n",
       "     DiabetesPedigreeFunction  Age  Outcome  \n",
       "0                       0.167   21        0  \n",
       "1                       2.288   15        1  \n",
       "2                       0.248   26        1  \n",
       "3                       0.158   53        1  \n",
       "4                       0.398   59        1  \n",
       "..                        ...  ...      ...  \n",
       "399                     0.591   25        0  \n",
       "400                     0.828   23        0  \n",
       "401                     0.335   46        1  \n",
       "402                     0.886   23        0  \n",
       "403                     0.439   43        1  \n",
       "\n",
       "[404 rows x 9 columns]"
      ]
     },
     "execution_count": 4,
     "metadata": {},
     "output_type": "execute_result"
    }
   ],
   "source": [
    "df_2 = df.copy() #DF_2 will contain all columns from DF, but rows where Insulin equals zero will be removed\n",
    "df_2 = df_2[df_2['Insulin'] != 0]\n",
    "df_2 = df_2.reset_index(drop=True)\n",
    "df_2"
   ]
  },
  {
   "cell_type": "code",
   "execution_count": 5,
   "metadata": {},
   "outputs": [
    {
     "name": "stdout",
     "output_type": "stream",
     "text": [
      "df_2 has 384 less rows than the original dataframe (df).\n"
     ]
    }
   ],
   "source": [
    "print(\"df_2 has %d less rows than the original dataframe (df).\" % (df.shape[0]-df_2.shape[0]))"
   ]
  },
  {
   "cell_type": "markdown",
   "metadata": {},
   "source": [
    "The dataframe \"df_2\" has now been created in order to preserve the original dataset. All rows with an Insulin value of 0 have been removed in this new dataframe. A total of 384 rows were removed."
   ]
  },
  {
   "cell_type": "markdown",
   "metadata": {},
   "source": [
    "#### &#x2611; C. Draw the histogram of Insulin column along with kernel density estimation (KDE) curb."
   ]
  },
  {
   "cell_type": "code",
   "execution_count": 6,
   "metadata": {},
   "outputs": [
    {
     "name": "stdout",
     "output_type": "stream",
     "text": [
      "Average Insulin Level is: 155\n",
      "Lowest Insulin Level is: 14\n",
      "Highest Insulin Level is: 846\n"
     ]
    }
   ],
   "source": [
    "avg_insulin = df_2['Insulin'].mean()\n",
    "print(\"Average Insulin Level is: %d\" % (avg_insulin))\n",
    "lowest_insulin = df_2['Insulin'].min()\n",
    "print(\"Lowest Insulin Level is: %d\" % (lowest_insulin))\n",
    "highest_insulin = df_2['Insulin'].max()\n",
    "print(\"Highest Insulin Level is: %d\" % (highest_insulin))"
   ]
  },
  {
   "cell_type": "code",
   "execution_count": 7,
   "metadata": {},
   "outputs": [
    {
     "name": "stderr",
     "output_type": "stream",
     "text": [
      "/home/g2square/.local/lib/python3.11/site-packages/seaborn/_oldcore.py:1498: FutureWarning: is_categorical_dtype is deprecated and will be removed in a future version. Use isinstance(dtype, CategoricalDtype) instead\n",
      "  if pd.api.types.is_categorical_dtype(vector):\n",
      "/home/g2square/.local/lib/python3.11/site-packages/seaborn/_oldcore.py:1119: FutureWarning: use_inf_as_na option is deprecated and will be removed in a future version. Convert inf values to NaN before operating instead.\n",
      "  with pd.option_context('mode.use_inf_as_na', True):\n"
     ]
    },
    {
     "data": {
      "image/png": "[encoded data removed]",
      "text/plain": [
       "<Figure size 800x600 with 1 Axes>"
      ]
     },
     "metadata": {},
     "output_type": "display_data"
    }
   ],
   "source": [
    "# Plot 1\n",
    "fig_1, ax_1 = plt.subplots(figsize=(8,6)) #Subplots\n",
    "\n",
    "ax_1 = sns.histplot(df_2[\"Insulin\"], color='royalblue', kde=True) #Define Histogram \n",
    "ax_1.lines[0].set_color('orangered') #Set the first line's (KDE curb) color\n",
    "ax_1.lines[0].set_label('KDE Curb') #\n",
    "ax_1.axvline(df_2['Insulin'].mean(), color='gold', label='Average Insulin Level')\n",
    "plt.xlabel('Insulin Level')\n",
    "plt.ylabel('Frequency')\n",
    "plt.title('')\n",
    "plt.legend()\n",
    "ax_1.set_title('Frequency of Insulin Values', fontweight='bold', fontsize=16)\n",
    "ax_1.set_xlim(left=0)\n",
    "ax_1.grid(axis='x', linestyle='--', alpha=0.7)\n",
    "xticks = [0, 100, avg_insulin, 200, 300, 400, 500, 600, 700, 800, highest_insulin]\n",
    "xtick_labels = ['0', '100', '155', '200', '300', '400', '500', '600', '700', '800', '846']\n",
    "plt.xticks(xticks, xtick_labels, rotation=45)\n",
    "fig_1.tight_layout()\n",
    "plt.show()"
   ]
  },
  {
   "cell_type": "markdown",
   "metadata": {},
   "source": [
    "We find that the average Insulin Level is 155. While not in the center of the KDE curb, the mean line still appears pretty close to the most frequent insulin levels. This histogram shows that the majority of the patients records have insulin values in the sub 200 range. I included the mean of the insulin column's values in order to provide more understanding of where most patients are. "
   ]
  },
  {
   "cell_type": "markdown",
   "metadata": {},
   "source": [
    "#### &#x2611; D. Identify outliers of Insulin using Inter Quartile Range (IQR) approach and impute them with lower band and upper band values appropriately (any outliers above the upper band, replace it with the value of upper band, and any outliers below the lower band, replace it with the value of the lower band). Then draw the histogram again to observe the difference\n"
   ]
  },
  {
   "cell_type": "markdown",
   "metadata": {},
   "source": [
    "> Identify outliers using IQR approach. \n"
   ]
  },
  {
   "cell_type": "code",
   "execution_count": 8,
   "metadata": {},
   "outputs": [
    {
     "name": "stdout",
     "output_type": "stream",
     "text": [
      "113.0\n"
     ]
    }
   ],
   "source": [
    "Insulin_Q1 = df_2['Insulin'].quantile(0.25) #Getting the first quantile\n",
    "Insulin_Q3 = df_2['Insulin'].quantile(0.75) #Getting the third quantile\n",
    "Insulin_IQR = Insulin_Q3 - Insulin_Q1 #Finding IQR by subtracing Q1 from Q3\n",
    "print(Insulin_IQR)"
   ]
  },
  {
   "cell_type": "code",
   "execution_count": 9,
   "metadata": {},
   "outputs": [
    {
     "name": "stdout",
     "output_type": "stream",
     "text": [
      "Lower Bound is: -92.500000\n",
      "Upper Bound is: 359.500000\n",
      "I found 25 outliers after using the IQR approach.\n"
     ]
    }
   ],
   "source": [
    "threshold = 1.5 #Normal threshold\n",
    "\n",
    "#Find the Lower and Upper Bounds\n",
    "Insulin_lower_bound = Insulin_Q1 - threshold * Insulin_IQR\n",
    "Insulin_upper_bound = Insulin_Q3 + threshold * Insulin_IQR\n",
    "\n",
    "#Identify and store Outliers\n",
    "Insulin_outliers = df_2[(df_2['Insulin'] < Insulin_lower_bound) | (df_2['Insulin'] > Insulin_upper_bound)]\n",
    "\n",
    "print(\"Lower Bound is: %f\" % (Insulin_lower_bound))\n",
    "print(\"Upper Bound is: %f\" % (Insulin_upper_bound))\n",
    "print(\"I found %d outliers after using the IQR approach.\" % (len(Insulin_outliers)))"
   ]
  },
  {
   "cell_type": "markdown",
   "metadata": {},
   "source": [
    "> Replace upper and lower bands with values of upper and low bands. "
   ]
  },
  {
   "cell_type": "code",
   "execution_count": 10,
   "metadata": {},
   "outputs": [
    {
     "data": {
      "text/html": [
       "<div>\n",
       "<style scoped>\n",
       "    .dataframe tbody tr th:only-of-type {\n",
       "        vertical-align: middle;\n",
       "    }\n",
       "\n",
       "    .dataframe tbody tr th {\n",
       "        vertical-align: top;\n",
       "    }\n",
       "\n",
       "    .dataframe thead th {\n",
       "        text-align: right;\n",
       "    }\n",
       "</style>\n",
       "<table border=\"1\" class=\"dataframe\">\n",
       "  <thead>\n",
       "    <tr style=\"text-align: right;\">\n",
       "      <th></th>\n",
       "      <th>Pregnancies</th>\n",
       "      <th>Glucose</th>\n",
       "      <th>BloodPressure</th>\n",
       "      <th>SkinThickness</th>\n",
       "      <th>Insulin</th>\n",
       "      <th>BMI</th>\n",
       "      <th>DiabetesPedigreeFunction</th>\n",
       "      <th>Age</th>\n",
       "      <th>Outcome</th>\n",
       "    </tr>\n",
       "  </thead>\n",
       "  <tbody>\n",
       "    <tr>\n",
       "      <th>0</th>\n",
       "      <td>1</td>\n",
       "      <td>89</td>\n",
       "      <td>66.0</td>\n",
       "      <td>23</td>\n",
       "      <td>94.0</td>\n",
       "      <td>28.1</td>\n",
       "      <td>0.167</td>\n",
       "      <td>21</td>\n",
       "      <td>0</td>\n",
       "    </tr>\n",
       "    <tr>\n",
       "      <th>1</th>\n",
       "      <td>0</td>\n",
       "      <td>137</td>\n",
       "      <td>40.0</td>\n",
       "      <td>35</td>\n",
       "      <td>168.0</td>\n",
       "      <td>43.1</td>\n",
       "      <td>2.288</td>\n",
       "      <td>15</td>\n",
       "      <td>1</td>\n",
       "    </tr>\n",
       "    <tr>\n",
       "      <th>2</th>\n",
       "      <td>3</td>\n",
       "      <td>78</td>\n",
       "      <td>50.0</td>\n",
       "      <td>32</td>\n",
       "      <td>88.0</td>\n",
       "      <td>31.0</td>\n",
       "      <td>0.248</td>\n",
       "      <td>26</td>\n",
       "      <td>1</td>\n",
       "    </tr>\n",
       "    <tr>\n",
       "      <th>3</th>\n",
       "      <td>2</td>\n",
       "      <td>197</td>\n",
       "      <td>70.0</td>\n",
       "      <td>45</td>\n",
       "      <td>359.5</td>\n",
       "      <td>30.5</td>\n",
       "      <td>0.158</td>\n",
       "      <td>53</td>\n",
       "      <td>1</td>\n",
       "    </tr>\n",
       "    <tr>\n",
       "      <th>4</th>\n",
       "      <td>1</td>\n",
       "      <td>189</td>\n",
       "      <td>60.0</td>\n",
       "      <td>23</td>\n",
       "      <td>359.5</td>\n",
       "      <td>30.1</td>\n",
       "      <td>0.398</td>\n",
       "      <td>59</td>\n",
       "      <td>1</td>\n",
       "    </tr>\n",
       "    <tr>\n",
       "      <th>...</th>\n",
       "      <td>...</td>\n",
       "      <td>...</td>\n",
       "      <td>...</td>\n",
       "      <td>...</td>\n",
       "      <td>...</td>\n",
       "      <td>...</td>\n",
       "      <td>...</td>\n",
       "      <td>...</td>\n",
       "      <td>...</td>\n",
       "    </tr>\n",
       "    <tr>\n",
       "      <th>399</th>\n",
       "      <td>2</td>\n",
       "      <td>129</td>\n",
       "      <td>74.0</td>\n",
       "      <td>26</td>\n",
       "      <td>205.0</td>\n",
       "      <td>33.2</td>\n",
       "      <td>0.591</td>\n",
       "      <td>25</td>\n",
       "      <td>0</td>\n",
       "    </tr>\n",
       "    <tr>\n",
       "      <th>400</th>\n",
       "      <td>1</td>\n",
       "      <td>140</td>\n",
       "      <td>74.0</td>\n",
       "      <td>26</td>\n",
       "      <td>180.0</td>\n",
       "      <td>24.1</td>\n",
       "      <td>0.828</td>\n",
       "      <td>23</td>\n",
       "      <td>0</td>\n",
       "    </tr>\n",
       "    <tr>\n",
       "      <th>401</th>\n",
       "      <td>1</td>\n",
       "      <td>144</td>\n",
       "      <td>82.0</td>\n",
       "      <td>46</td>\n",
       "      <td>180.0</td>\n",
       "      <td>46.1</td>\n",
       "      <td>0.335</td>\n",
       "      <td>46</td>\n",
       "      <td>1</td>\n",
       "    </tr>\n",
       "    <tr>\n",
       "      <th>402</th>\n",
       "      <td>2</td>\n",
       "      <td>121</td>\n",
       "      <td>70.0</td>\n",
       "      <td>32</td>\n",
       "      <td>95.0</td>\n",
       "      <td>39.1</td>\n",
       "      <td>0.886</td>\n",
       "      <td>23</td>\n",
       "      <td>0</td>\n",
       "    </tr>\n",
       "    <tr>\n",
       "      <th>403</th>\n",
       "      <td>7</td>\n",
       "      <td>129</td>\n",
       "      <td>68.0</td>\n",
       "      <td>49</td>\n",
       "      <td>125.0</td>\n",
       "      <td>38.5</td>\n",
       "      <td>0.439</td>\n",
       "      <td>43</td>\n",
       "      <td>1</td>\n",
       "    </tr>\n",
       "  </tbody>\n",
       "</table>\n",
       "<p>404 rows × 9 columns</p>\n",
       "</div>"
      ],
      "text/plain": [
       "     Pregnancies  Glucose  BloodPressure  SkinThickness  Insulin   BMI  \\\n",
       "0              1       89           66.0             23     94.0  28.1   \n",
       "1              0      137           40.0             35    168.0  43.1   \n",
       "2              3       78           50.0             32     88.0  31.0   \n",
       "3              2      197           70.0             45    359.5  30.5   \n",
       "4              1      189           60.0             23    359.5  30.1   \n",
       "..           ...      ...            ...            ...      ...   ...   \n",
       "399            2      129           74.0             26    205.0  33.2   \n",
       "400            1      140           74.0             26    180.0  24.1   \n",
       "401            1      144           82.0             46    180.0  46.1   \n",
       "402            2      121           70.0             32     95.0  39.1   \n",
       "403            7      129           68.0             49    125.0  38.5   \n",
       "\n",
       "     DiabetesPedigreeFunction  Age  Outcome  \n",
       "0                       0.167   21        0  \n",
       "1                       2.288   15        1  \n",
       "2                       0.248   26        1  \n",
       "3                       0.158   53        1  \n",
       "4                       0.398   59        1  \n",
       "..                        ...  ...      ...  \n",
       "399                     0.591   25        0  \n",
       "400                     0.828   23        0  \n",
       "401                     0.335   46        1  \n",
       "402                     0.886   23        0  \n",
       "403                     0.439   43        1  \n",
       "\n",
       "[404 rows x 9 columns]"
      ]
     },
     "execution_count": 10,
     "metadata": {},
     "output_type": "execute_result"
    }
   ],
   "source": [
    "df_3 = df_2.copy() #DF_3 will contain Insulin outliers with reassigned lower/upper bounds\n",
    "df_3 = df_3.reset_index(drop=True)\n",
    "df_3['Insulin'] = df_3['Insulin'].apply(lambda x: Insulin_lower_bound if x < Insulin_lower_bound else (Insulin_upper_bound if x > Insulin_upper_bound else x))\n",
    "df_3"
   ]
  },
  {
   "cell_type": "markdown",
   "metadata": {},
   "source": [
    "> Draw a new histogram"
   ]
  },
  {
   "cell_type": "code",
   "execution_count": 11,
   "metadata": {},
   "outputs": [
    {
     "name": "stdout",
     "output_type": "stream",
     "text": [
      "Average Insulin Level is: 146\n"
     ]
    }
   ],
   "source": [
    "print(\"Average Insulin Level is: %d\" % (df_3['Insulin'].mean()))"
   ]
  },
  {
   "cell_type": "code",
   "execution_count": 12,
   "metadata": {},
   "outputs": [
    {
     "name": "stderr",
     "output_type": "stream",
     "text": [
      "/home/g2square/.local/lib/python3.11/site-packages/seaborn/_oldcore.py:1498: FutureWarning: is_categorical_dtype is deprecated and will be removed in a future version. Use isinstance(dtype, CategoricalDtype) instead\n",
      "  if pd.api.types.is_categorical_dtype(vector):\n",
      "/home/g2square/.local/lib/python3.11/site-packages/seaborn/_oldcore.py:1119: FutureWarning: use_inf_as_na option is deprecated and will be removed in a future version. Convert inf values to NaN before operating instead.\n",
      "  with pd.option_context('mode.use_inf_as_na', True):\n"
     ]
    },
    {
     "data": {
      "image/png": "[encoded data removed]",
      "text/plain": [
       "<Figure size 800x600 with 1 Axes>"
      ]
     },
     "metadata": {},
     "output_type": "display_data"
    }
   ],
   "source": [
    "# Plot 2: (Outliers replaced with bound values)\n",
    "fig_2, ax_2 = plt.subplots(figsize=(8,6))\n",
    "\n",
    "ax_2 = sns.histplot(df_3[\"Insulin\"], color='royalblue', kde=True)\n",
    "ax_2.lines[0].set_color('orangered') #Set the first line's (KDE curb) color\n",
    "ax_2.lines[0].set_label('KDE Curb') #\n",
    "ax_2.axvline(df_3['Insulin'].mean(), color='gold', label='Average Insulin Level')\n",
    "plt.xlabel('Insulin Level')\n",
    "plt.ylabel('Frequency')\n",
    "plt.title('')\n",
    "plt.legend()\n",
    "ax_2.set_title('Frequency of Insulin Values (Outliers Replaced)', fontweight='bold', fontsize=16)\n",
    "ax_2.set_xlim(left=0)\n",
    "ax_2.grid(axis='x', linestyle='--', alpha=0.7)\n",
    "xticks = [0, 100, df_3['Insulin'].mean(), 200, 300, 375]\n",
    "xtick_labels = ['0', '100', '146', '200', '300', '375']\n",
    "plt.xticks(xticks, xtick_labels, rotation=45)\n",
    "fig_2.tight_layout()\n",
    "plt.show()\n"
   ]
  },
  {
   "cell_type": "markdown",
   "metadata": {},
   "source": [
    "In part D, I identified the outliers and replaced them with the lower and upper bound values. This in effect \"normalizes\" the values in this column so that there are no outliers. "
   ]
  },
  {
   "cell_type": "markdown",
   "metadata": {},
   "source": [
    "#### &#x2611; E. Transform Insulin column using $\\log_e$(x+1) formula to make the Insulin values follow the normal distribution."
   ]
  },
  {
   "cell_type": "code",
   "execution_count": 13,
   "metadata": {},
   "outputs": [
    {
     "data": {
      "text/html": [
       "<div>\n",
       "<style scoped>\n",
       "    .dataframe tbody tr th:only-of-type {\n",
       "        vertical-align: middle;\n",
       "    }\n",
       "\n",
       "    .dataframe tbody tr th {\n",
       "        vertical-align: top;\n",
       "    }\n",
       "\n",
       "    .dataframe thead th {\n",
       "        text-align: right;\n",
       "    }\n",
       "</style>\n",
       "<table border=\"1\" class=\"dataframe\">\n",
       "  <thead>\n",
       "    <tr style=\"text-align: right;\">\n",
       "      <th></th>\n",
       "      <th>Pregnancies</th>\n",
       "      <th>Glucose</th>\n",
       "      <th>BloodPressure</th>\n",
       "      <th>SkinThickness</th>\n",
       "      <th>Insulin</th>\n",
       "      <th>BMI</th>\n",
       "      <th>DiabetesPedigreeFunction</th>\n",
       "      <th>Age</th>\n",
       "      <th>Outcome</th>\n",
       "    </tr>\n",
       "  </thead>\n",
       "  <tbody>\n",
       "    <tr>\n",
       "      <th>0</th>\n",
       "      <td>1</td>\n",
       "      <td>89</td>\n",
       "      <td>66.0</td>\n",
       "      <td>23</td>\n",
       "      <td>4.553877</td>\n",
       "      <td>28.1</td>\n",
       "      <td>0.167</td>\n",
       "      <td>21</td>\n",
       "      <td>0</td>\n",
       "    </tr>\n",
       "    <tr>\n",
       "      <th>1</th>\n",
       "      <td>0</td>\n",
       "      <td>137</td>\n",
       "      <td>40.0</td>\n",
       "      <td>35</td>\n",
       "      <td>5.129899</td>\n",
       "      <td>43.1</td>\n",
       "      <td>2.288</td>\n",
       "      <td>15</td>\n",
       "      <td>1</td>\n",
       "    </tr>\n",
       "    <tr>\n",
       "      <th>2</th>\n",
       "      <td>3</td>\n",
       "      <td>78</td>\n",
       "      <td>50.0</td>\n",
       "      <td>32</td>\n",
       "      <td>4.488636</td>\n",
       "      <td>31.0</td>\n",
       "      <td>0.248</td>\n",
       "      <td>26</td>\n",
       "      <td>1</td>\n",
       "    </tr>\n",
       "    <tr>\n",
       "      <th>3</th>\n",
       "      <td>2</td>\n",
       "      <td>197</td>\n",
       "      <td>70.0</td>\n",
       "      <td>45</td>\n",
       "      <td>5.887492</td>\n",
       "      <td>30.5</td>\n",
       "      <td>0.158</td>\n",
       "      <td>53</td>\n",
       "      <td>1</td>\n",
       "    </tr>\n",
       "    <tr>\n",
       "      <th>4</th>\n",
       "      <td>1</td>\n",
       "      <td>189</td>\n",
       "      <td>60.0</td>\n",
       "      <td>23</td>\n",
       "      <td>5.887492</td>\n",
       "      <td>30.1</td>\n",
       "      <td>0.398</td>\n",
       "      <td>59</td>\n",
       "      <td>1</td>\n",
       "    </tr>\n",
       "    <tr>\n",
       "      <th>...</th>\n",
       "      <td>...</td>\n",
       "      <td>...</td>\n",
       "      <td>...</td>\n",
       "      <td>...</td>\n",
       "      <td>...</td>\n",
       "      <td>...</td>\n",
       "      <td>...</td>\n",
       "      <td>...</td>\n",
       "      <td>...</td>\n",
       "    </tr>\n",
       "    <tr>\n",
       "      <th>399</th>\n",
       "      <td>2</td>\n",
       "      <td>129</td>\n",
       "      <td>74.0</td>\n",
       "      <td>26</td>\n",
       "      <td>5.327876</td>\n",
       "      <td>33.2</td>\n",
       "      <td>0.591</td>\n",
       "      <td>25</td>\n",
       "      <td>0</td>\n",
       "    </tr>\n",
       "    <tr>\n",
       "      <th>400</th>\n",
       "      <td>1</td>\n",
       "      <td>140</td>\n",
       "      <td>74.0</td>\n",
       "      <td>26</td>\n",
       "      <td>5.198497</td>\n",
       "      <td>24.1</td>\n",
       "      <td>0.828</td>\n",
       "      <td>23</td>\n",
       "      <td>0</td>\n",
       "    </tr>\n",
       "    <tr>\n",
       "      <th>401</th>\n",
       "      <td>1</td>\n",
       "      <td>144</td>\n",
       "      <td>82.0</td>\n",
       "      <td>46</td>\n",
       "      <td>5.198497</td>\n",
       "      <td>46.1</td>\n",
       "      <td>0.335</td>\n",
       "      <td>46</td>\n",
       "      <td>1</td>\n",
       "    </tr>\n",
       "    <tr>\n",
       "      <th>402</th>\n",
       "      <td>2</td>\n",
       "      <td>121</td>\n",
       "      <td>70.0</td>\n",
       "      <td>32</td>\n",
       "      <td>4.564348</td>\n",
       "      <td>39.1</td>\n",
       "      <td>0.886</td>\n",
       "      <td>23</td>\n",
       "      <td>0</td>\n",
       "    </tr>\n",
       "    <tr>\n",
       "      <th>403</th>\n",
       "      <td>7</td>\n",
       "      <td>129</td>\n",
       "      <td>68.0</td>\n",
       "      <td>49</td>\n",
       "      <td>4.836282</td>\n",
       "      <td>38.5</td>\n",
       "      <td>0.439</td>\n",
       "      <td>43</td>\n",
       "      <td>1</td>\n",
       "    </tr>\n",
       "  </tbody>\n",
       "</table>\n",
       "<p>404 rows × 9 columns</p>\n",
       "</div>"
      ],
      "text/plain": [
       "     Pregnancies  Glucose  BloodPressure  SkinThickness   Insulin   BMI  \\\n",
       "0              1       89           66.0             23  4.553877  28.1   \n",
       "1              0      137           40.0             35  5.129899  43.1   \n",
       "2              3       78           50.0             32  4.488636  31.0   \n",
       "3              2      197           70.0             45  5.887492  30.5   \n",
       "4              1      189           60.0             23  5.887492  30.1   \n",
       "..           ...      ...            ...            ...       ...   ...   \n",
       "399            2      129           74.0             26  5.327876  33.2   \n",
       "400            1      140           74.0             26  5.198497  24.1   \n",
       "401            1      144           82.0             46  5.198497  46.1   \n",
       "402            2      121           70.0             32  4.564348  39.1   \n",
       "403            7      129           68.0             49  4.836282  38.5   \n",
       "\n",
       "     DiabetesPedigreeFunction  Age  Outcome  \n",
       "0                       0.167   21        0  \n",
       "1                       2.288   15        1  \n",
       "2                       0.248   26        1  \n",
       "3                       0.158   53        1  \n",
       "4                       0.398   59        1  \n",
       "..                        ...  ...      ...  \n",
       "399                     0.591   25        0  \n",
       "400                     0.828   23        0  \n",
       "401                     0.335   46        1  \n",
       "402                     0.886   23        0  \n",
       "403                     0.439   43        1  \n",
       "\n",
       "[404 rows x 9 columns]"
      ]
     },
     "execution_count": 13,
     "metadata": {},
     "output_type": "execute_result"
    }
   ],
   "source": [
    "df_4 = df_3.copy() #df_4 will have an Insulin column with a log formula applied to it\n",
    "df_4 = df_4.reset_index(drop=True)\n",
    "df_4['Insulin'] = df_4['Insulin'].apply(lambda x: np.log(x + 1))\n",
    "df_4"
   ]
  },
  {
   "cell_type": "markdown",
   "metadata": {},
   "source": [
    "In an attempt to normalize values even greater in the insulin column, I have applied $\\log_e$(x+1) to the Insulin column. "
   ]
  },
  {
   "cell_type": "markdown",
   "metadata": {},
   "source": [
    "#### &#x2611; F. Find the kurtosis and skewness of Insulin after the transformation"
   ]
  },
  {
   "cell_type": "code",
   "execution_count": 14,
   "metadata": {},
   "outputs": [
    {
     "name": "stdout",
     "output_type": "stream",
     "text": [
      "DF_4 Insulin Kurtosis: 0.031295.\n",
      "DF_4 Insulin Skewness: -0.392778.\n"
     ]
    }
   ],
   "source": [
    "print(\"DF_4 Insulin Kurtosis: %f.\" % (kurtosis(df_4['Insulin'])))\n",
    "print(\"DF_4 Insulin Skewness: %f.\" % (skew(df_4['Insulin'])))"
   ]
  },
  {
   "cell_type": "markdown",
   "metadata": {},
   "source": [
    "#### G. Draw two QQ-plots to compare before and after the $\\log_e$(x+1) transformation for Insulin column."
   ]
  },
  {
   "cell_type": "markdown",
   "metadata": {},
   "source": [
    "> Before Formula: DF_3"
   ]
  },
  {
   "cell_type": "code",
   "execution_count": 15,
   "metadata": {},
   "outputs": [
    {
     "data": {
      "image/png": "[encoded data removed]",
      "text/plain": [
       "<Figure size 640x480 with 1 Axes>"
      ]
     },
     "metadata": {},
     "output_type": "display_data"
    }
   ],
   "source": [
    "fig = sm.qqplot(df_3['Insulin'], line='45')\n",
    "plt.show()"
   ]
  },
  {
   "cell_type": "markdown",
   "metadata": {},
   "source": [
    "> After Formula: DF_4"
   ]
  },
  {
   "cell_type": "code",
   "execution_count": 16,
   "metadata": {},
   "outputs": [
    {
     "data": {
      "image/png": "[encoded data removed]",
      "text/plain": [
       "<Figure size 640x480 with 1 Axes>"
      ]
     },
     "metadata": {},
     "output_type": "display_data"
    }
   ],
   "source": [
    "fig = sm.qqplot(df_4['Insulin'], line='45')\n",
    "plt.show()"
   ]
  },
  {
   "cell_type": "markdown",
   "metadata": {},
   "source": [
    "Comment"
   ]
  },
  {
   "cell_type": "markdown",
   "metadata": {},
   "source": [
    "#### H. Similarly detect and correct outliers (step d) in the 'Glucose','BloodPressure' and 'SkinThickness' columns."
   ]
  },
  {
   "cell_type": "markdown",
   "metadata": {},
   "source": [
    "> Glucose Column Outliers Detection"
   ]
  },
  {
   "cell_type": "code",
   "execution_count": 17,
   "metadata": {},
   "outputs": [
    {
     "name": "stdout",
     "output_type": "stream",
     "text": [
      "44.0\n",
      "Lower Bound is: 33.000000\n",
      "Upper Bound is: 209.000000\n",
      "I found 1 outliers after using the IQR approach.\n",
      "    Pregnancies  Glucose  BloodPressure  SkinThickness  Insulin   BMI  \\\n",
      "88            1        0           74.0             20       23  27.7   \n",
      "\n",
      "    DiabetesPedigreeFunction  Age  Outcome  \n",
      "88                     0.299   21        0  \n"
     ]
    }
   ],
   "source": [
    "Glucose_Q1 = df_2['Glucose'].quantile(0.25)\n",
    "Glucose_Q3 = df_2['Glucose'].quantile(0.75)\n",
    "Glucose_IQR = Glucose_Q3 - Glucose_Q1\n",
    "print(Glucose_IQR)\n",
    "\n",
    "Glucose_lower_bound = Glucose_Q1 - threshold * Glucose_IQR\n",
    "Glucose_upper_bound = Glucose_Q3 + threshold * Glucose_IQR\n",
    "\n",
    "Glucose_outliers = df_2[(df_2['Glucose'] < Glucose_lower_bound) | (df_2['Glucose'] > Glucose_upper_bound)]\n",
    "print(\"Lower Bound is: %f\" % (Glucose_lower_bound))\n",
    "print(\"Upper Bound is: %f\" % (Glucose_upper_bound))\n",
    "print(\"I found %d outliers after using the IQR approach.\" % (len(Glucose_outliers)))\n",
    "print(Glucose_outliers)"
   ]
  },
  {
   "cell_type": "markdown",
   "metadata": {},
   "source": [
    "> BloodPressure Column Outliers Detection"
   ]
  },
  {
   "cell_type": "code",
   "execution_count": 18,
   "metadata": {},
   "outputs": [
    {
     "name": "stdout",
     "output_type": "stream",
     "text": [
      "16.0\n",
      "Lower Bound is: 38.000000\n",
      "Upper Bound is: 102.000000\n",
      "I found 7 outliers after using the IQR approach.\n",
      "     Pregnancies  Glucose  BloodPressure  SkinThickness  Insulin   BMI  \\\n",
      "7              1      103           30.0             38       83  43.3   \n",
      "19             9      171          110.0             24      240  45.4   \n",
      "57             1       88           30.0             42       99  55.0   \n",
      "86             0      129          110.0             46      130  67.1   \n",
      "309            1       89           24.0             19       25  27.8   \n",
      "343            8      167          106.0             46      231  37.6   \n",
      "349           10       68          106.0             23       49  35.5   \n",
      "\n",
      "     DiabetesPedigreeFunction  Age  Outcome  \n",
      "7                       0.183   33        0  \n",
      "19                      0.721   54        1  \n",
      "57                      0.496   26        1  \n",
      "86                      0.319   26        1  \n",
      "309                     0.559   21        0  \n",
      "343                     0.165   43        1  \n",
      "349                     0.285   47        0  \n"
     ]
    }
   ],
   "source": [
    "BloodPressure_Q1 = df_2['BloodPressure'].quantile(0.25)\n",
    "BloodPressure_Q3 = df_2['BloodPressure'].quantile(0.75)\n",
    "BloodPressure_IQR = BloodPressure_Q3 - BloodPressure_Q1\n",
    "print(BloodPressure_IQR)\n",
    "\n",
    "BloodPressure_lower_bound = BloodPressure_Q1 - threshold * BloodPressure_IQR\n",
    "BloodPressure_upper_bound = BloodPressure_Q3 + threshold * BloodPressure_IQR\n",
    "\n",
    "BloodPressure_outliers = df_2[(df_2['BloodPressure'] < BloodPressure_lower_bound) | (df_2['BloodPressure'] > BloodPressure_upper_bound)]\n",
    "print(\"Lower Bound is: %f\" % (BloodPressure_lower_bound))\n",
    "print(\"Upper Bound is: %f\" % (BloodPressure_upper_bound))\n",
    "print(\"I found %d outliers after using the IQR approach.\" % (len(BloodPressure_outliers)))\n",
    "print(BloodPressure_outliers)"
   ]
  },
  {
   "cell_type": "markdown",
   "metadata": {},
   "source": [
    "> SkinThickness Column Outliers Detection"
   ]
  },
  {
   "cell_type": "code",
   "execution_count": 19,
   "metadata": {},
   "outputs": [
    {
     "name": "stdout",
     "output_type": "stream",
     "text": [
      "16.0\n",
      "Lower Bound is: -3.000000\n",
      "Upper Bound is: 61.000000\n",
      "I found 1 outliers after using the IQR approach.\n",
      "     Pregnancies  Glucose  BloodPressure  SkinThickness  Insulin   BMI  \\\n",
      "227            0      180           78.0             63       14  59.4   \n",
      "\n",
      "     DiabetesPedigreeFunction  Age  Outcome  \n",
      "227                      2.42   25        1  \n"
     ]
    }
   ],
   "source": [
    "SkinThickness_Q1 = df_2['SkinThickness'].quantile(0.25)\n",
    "SkinThickness_Q3 = df_2['SkinThickness'].quantile(0.75)\n",
    "SkinThickness_IQR = SkinThickness_Q3 - SkinThickness_Q1\n",
    "print(SkinThickness_IQR)\n",
    "\n",
    "SkinThickness_lower_bound = SkinThickness_Q1 - threshold * SkinThickness_IQR\n",
    "SkinThickness_upper_bound = SkinThickness_Q3 + threshold * SkinThickness_IQR\n",
    "\n",
    "SkinThickness_outliers = df_2[(df_2['SkinThickness'] < SkinThickness_lower_bound) | (df_2['SkinThickness'] > SkinThickness_upper_bound)]\n",
    "print(\"Lower Bound is: %f\" % (SkinThickness_lower_bound))\n",
    "print(\"Upper Bound is: %f\" % (SkinThickness_upper_bound))\n",
    "print(\"I found %d outliers after using the IQR approach.\" % (len(SkinThickness_outliers)))\n",
    "print(SkinThickness_outliers)"
   ]
  },
  {
   "cell_type": "markdown",
   "metadata": {},
   "source": [
    "> Column Outliers Correction"
   ]
  },
  {
   "cell_type": "code",
   "execution_count": 20,
   "metadata": {},
   "outputs": [
    {
     "data": {
      "text/html": [
       "<div>\n",
       "<style scoped>\n",
       "    .dataframe tbody tr th:only-of-type {\n",
       "        vertical-align: middle;\n",
       "    }\n",
       "\n",
       "    .dataframe tbody tr th {\n",
       "        vertical-align: top;\n",
       "    }\n",
       "\n",
       "    .dataframe thead th {\n",
       "        text-align: right;\n",
       "    }\n",
       "</style>\n",
       "<table border=\"1\" class=\"dataframe\">\n",
       "  <thead>\n",
       "    <tr style=\"text-align: right;\">\n",
       "      <th></th>\n",
       "      <th>Pregnancies</th>\n",
       "      <th>Glucose</th>\n",
       "      <th>BloodPressure</th>\n",
       "      <th>SkinThickness</th>\n",
       "      <th>Insulin</th>\n",
       "      <th>BMI</th>\n",
       "      <th>DiabetesPedigreeFunction</th>\n",
       "      <th>Age</th>\n",
       "      <th>Outcome</th>\n",
       "    </tr>\n",
       "  </thead>\n",
       "  <tbody>\n",
       "    <tr>\n",
       "      <th>0</th>\n",
       "      <td>1</td>\n",
       "      <td>89.0</td>\n",
       "      <td>66.0</td>\n",
       "      <td>23.0</td>\n",
       "      <td>94.0</td>\n",
       "      <td>28.1</td>\n",
       "      <td>0.167</td>\n",
       "      <td>21</td>\n",
       "      <td>0</td>\n",
       "    </tr>\n",
       "    <tr>\n",
       "      <th>1</th>\n",
       "      <td>0</td>\n",
       "      <td>137.0</td>\n",
       "      <td>40.0</td>\n",
       "      <td>35.0</td>\n",
       "      <td>168.0</td>\n",
       "      <td>43.1</td>\n",
       "      <td>2.288</td>\n",
       "      <td>15</td>\n",
       "      <td>1</td>\n",
       "    </tr>\n",
       "    <tr>\n",
       "      <th>2</th>\n",
       "      <td>3</td>\n",
       "      <td>78.0</td>\n",
       "      <td>50.0</td>\n",
       "      <td>32.0</td>\n",
       "      <td>88.0</td>\n",
       "      <td>31.0</td>\n",
       "      <td>0.248</td>\n",
       "      <td>26</td>\n",
       "      <td>1</td>\n",
       "    </tr>\n",
       "    <tr>\n",
       "      <th>3</th>\n",
       "      <td>2</td>\n",
       "      <td>197.0</td>\n",
       "      <td>70.0</td>\n",
       "      <td>45.0</td>\n",
       "      <td>359.5</td>\n",
       "      <td>30.5</td>\n",
       "      <td>0.158</td>\n",
       "      <td>53</td>\n",
       "      <td>1</td>\n",
       "    </tr>\n",
       "    <tr>\n",
       "      <th>4</th>\n",
       "      <td>1</td>\n",
       "      <td>189.0</td>\n",
       "      <td>60.0</td>\n",
       "      <td>23.0</td>\n",
       "      <td>359.5</td>\n",
       "      <td>30.1</td>\n",
       "      <td>0.398</td>\n",
       "      <td>59</td>\n",
       "      <td>1</td>\n",
       "    </tr>\n",
       "    <tr>\n",
       "      <th>...</th>\n",
       "      <td>...</td>\n",
       "      <td>...</td>\n",
       "      <td>...</td>\n",
       "      <td>...</td>\n",
       "      <td>...</td>\n",
       "      <td>...</td>\n",
       "      <td>...</td>\n",
       "      <td>...</td>\n",
       "      <td>...</td>\n",
       "    </tr>\n",
       "    <tr>\n",
       "      <th>399</th>\n",
       "      <td>2</td>\n",
       "      <td>129.0</td>\n",
       "      <td>74.0</td>\n",
       "      <td>26.0</td>\n",
       "      <td>205.0</td>\n",
       "      <td>33.2</td>\n",
       "      <td>0.591</td>\n",
       "      <td>25</td>\n",
       "      <td>0</td>\n",
       "    </tr>\n",
       "    <tr>\n",
       "      <th>400</th>\n",
       "      <td>1</td>\n",
       "      <td>140.0</td>\n",
       "      <td>74.0</td>\n",
       "      <td>26.0</td>\n",
       "      <td>180.0</td>\n",
       "      <td>24.1</td>\n",
       "      <td>0.828</td>\n",
       "      <td>23</td>\n",
       "      <td>0</td>\n",
       "    </tr>\n",
       "    <tr>\n",
       "      <th>401</th>\n",
       "      <td>1</td>\n",
       "      <td>144.0</td>\n",
       "      <td>82.0</td>\n",
       "      <td>46.0</td>\n",
       "      <td>180.0</td>\n",
       "      <td>46.1</td>\n",
       "      <td>0.335</td>\n",
       "      <td>46</td>\n",
       "      <td>1</td>\n",
       "    </tr>\n",
       "    <tr>\n",
       "      <th>402</th>\n",
       "      <td>2</td>\n",
       "      <td>121.0</td>\n",
       "      <td>70.0</td>\n",
       "      <td>32.0</td>\n",
       "      <td>95.0</td>\n",
       "      <td>39.1</td>\n",
       "      <td>0.886</td>\n",
       "      <td>23</td>\n",
       "      <td>0</td>\n",
       "    </tr>\n",
       "    <tr>\n",
       "      <th>403</th>\n",
       "      <td>7</td>\n",
       "      <td>129.0</td>\n",
       "      <td>68.0</td>\n",
       "      <td>49.0</td>\n",
       "      <td>125.0</td>\n",
       "      <td>38.5</td>\n",
       "      <td>0.439</td>\n",
       "      <td>43</td>\n",
       "      <td>1</td>\n",
       "    </tr>\n",
       "  </tbody>\n",
       "</table>\n",
       "<p>404 rows × 9 columns</p>\n",
       "</div>"
      ],
      "text/plain": [
       "     Pregnancies  Glucose  BloodPressure  SkinThickness  Insulin   BMI  \\\n",
       "0              1     89.0           66.0           23.0     94.0  28.1   \n",
       "1              0    137.0           40.0           35.0    168.0  43.1   \n",
       "2              3     78.0           50.0           32.0     88.0  31.0   \n",
       "3              2    197.0           70.0           45.0    359.5  30.5   \n",
       "4              1    189.0           60.0           23.0    359.5  30.1   \n",
       "..           ...      ...            ...            ...      ...   ...   \n",
       "399            2    129.0           74.0           26.0    205.0  33.2   \n",
       "400            1    140.0           74.0           26.0    180.0  24.1   \n",
       "401            1    144.0           82.0           46.0    180.0  46.1   \n",
       "402            2    121.0           70.0           32.0     95.0  39.1   \n",
       "403            7    129.0           68.0           49.0    125.0  38.5   \n",
       "\n",
       "     DiabetesPedigreeFunction  Age  Outcome  \n",
       "0                       0.167   21        0  \n",
       "1                       2.288   15        1  \n",
       "2                       0.248   26        1  \n",
       "3                       0.158   53        1  \n",
       "4                       0.398   59        1  \n",
       "..                        ...  ...      ...  \n",
       "399                     0.591   25        0  \n",
       "400                     0.828   23        0  \n",
       "401                     0.335   46        1  \n",
       "402                     0.886   23        0  \n",
       "403                     0.439   43        1  \n",
       "\n",
       "[404 rows x 9 columns]"
      ]
     },
     "execution_count": 20,
     "metadata": {},
     "output_type": "execute_result"
    }
   ],
   "source": [
    "df_5 = df_3.copy() #df_5 will contain values from df_3, the dataframe that has had insulin zero records removed (df_2) and insulin outliers corrected (df_3)\n",
    "df_5 = df_5.reset_index(drop=True)\n",
    "df_5['Glucose'] = df_5['Glucose'].apply(lambda x: Glucose_lower_bound if x < Glucose_lower_bound else (Glucose_upper_bound if x > Glucose_upper_bound else x))\n",
    "df_5['BloodPressure'] = df_5['BloodPressure'].apply(lambda x: BloodPressure_lower_bound if x < BloodPressure_lower_bound else (BloodPressure_upper_bound if x > BloodPressure_upper_bound else x))\n",
    "df_5['SkinThickness'] = df_5['SkinThickness'].apply(lambda x: SkinThickness_lower_bound if x < SkinThickness_lower_bound else (SkinThickness_upper_bound if x > SkinThickness_upper_bound else x))\n",
    "df_5"
   ]
  },
  {
   "cell_type": "markdown",
   "metadata": {},
   "source": [
    "> Verify that Outliers are replaced"
   ]
  },
  {
   "cell_type": "code",
   "execution_count": 21,
   "metadata": {},
   "outputs": [
    {
     "data": {
      "text/plain": [
       "33.0"
      ]
     },
     "execution_count": 21,
     "metadata": {},
     "output_type": "execute_result"
    }
   ],
   "source": [
    "df_5.iloc[88]['Glucose']"
   ]
  },
  {
   "cell_type": "code",
   "execution_count": 22,
   "metadata": {},
   "outputs": [
    {
     "data": {
      "text/plain": [
       "88    0\n",
       "Name: Glucose, dtype: int64"
      ]
     },
     "execution_count": 22,
     "metadata": {},
     "output_type": "execute_result"
    }
   ],
   "source": [
    "Glucose_outliers_value = Glucose_outliers['Glucose']\n",
    "Glucose_outliers_value"
   ]
  },
  {
   "cell_type": "code",
   "execution_count": null,
   "metadata": {},
   "outputs": [],
   "source": []
  },
  {
   "cell_type": "markdown",
   "metadata": {},
   "source": [
    "Comment"
   ]
  },
  {
   "cell_type": "markdown",
   "metadata": {},
   "source": [
    "#### I. Display the correlation matrix using the seaborn heatmap function between continuous variables; Pregnancies, Glocose, BloodPressure, SkinThickness, Insulin, BMI, Age."
   ]
  },
  {
   "cell_type": "code",
   "execution_count": 25,
   "metadata": {},
   "outputs": [
    {
     "data": {
      "image/png": "[encoded data removed]",
      "text/plain": [
       "<Figure size 1000x800 with 2 Axes>"
      ]
     },
     "metadata": {},
     "output_type": "display_data"
    }
   ],
   "source": [
    "columns = ['Pregnancies', 'Glucose', 'BloodPressure', 'SkinThickness', 'Insulin', 'BMI', 'Age']\n",
    "subset_df = df_2[columns]\n",
    "correlation_matrix = subset_df.corr()\n",
    "\n",
    "# Create a heatmap using Seaborn\n",
    "plt.figure(figsize=(10, 8))\n",
    "sns.heatmap(correlation_matrix, annot=True, cmap='coolwarm', fmt=\".2f\", linewidths=.5)\n",
    "plt.title('Correlation Matrix Heatmap')\n",
    "plt.show()"
   ]
  },
  {
   "cell_type": "markdown",
   "metadata": {},
   "source": [
    "## Question 2: Data Processing"
   ]
  },
  {
   "cell_type": "code",
   "execution_count": null,
   "metadata": {},
   "outputs": [],
   "source": []
  },
  {
   "cell_type": "markdown",
   "metadata": {},
   "source": [
    "#### A. Group the patients by number of pregnancies, along with their average BloodPressure."
   ]
  },
  {
   "cell_type": "code",
   "execution_count": null,
   "metadata": {},
   "outputs": [],
   "source": []
  },
  {
   "cell_type": "markdown",
   "metadata": {},
   "source": [
    "#### B. Group the patients by number of pregnancies, along with the average age, sum of all ages in that group, and the count of patients in that group"
   ]
  },
  {
   "cell_type": "code",
   "execution_count": null,
   "metadata": {},
   "outputs": [],
   "source": []
  },
  {
   "cell_type": "markdown",
   "metadata": {},
   "source": [
    "#### C. Add a new column named ‘BMI/Age’ with the value of BMI over the Age, without using any loops."
   ]
  },
  {
   "cell_type": "code",
   "execution_count": null,
   "metadata": {},
   "outputs": [],
   "source": []
  },
  {
   "cell_type": "markdown",
   "metadata": {},
   "source": [
    "#### D. Without looping the rows, add a new column named ‘risk’ with the following rules:\n",
    "        a. High: if BMI > 45 and BloodPressure > 100\n",
    "        b. Medium: if 30 < BMI < 45 and BloodPressure < 100\n",
    "        c. Low: if BMI < 30\n",
    "        d. Unknown: otherwise"
   ]
  },
  {
   "cell_type": "code",
   "execution_count": null,
   "metadata": {},
   "outputs": [],
   "source": []
  },
  {
   "cell_type": "markdown",
   "metadata": {},
   "source": [
    "#### E. The file named ages.csv provides the age group names. Merge the two dataframes by the age, the resulted dataframe must contain all the columns of diabetes.csv, in addition to their age group in the column named ‘AgeGroup’."
   ]
  },
  {
   "cell_type": "code",
   "execution_count": null,
   "metadata": {},
   "outputs": [],
   "source": []
  },
  {
   "cell_type": "markdown",
   "metadata": {},
   "source": [
    "#### F. one-hot encode the categorical variable ‘AgeGroup’ and add the resulting columns to the dataframe, and remove AgeGroup."
   ]
  },
  {
   "cell_type": "code",
   "execution_count": null,
   "metadata": {},
   "outputs": [],
   "source": []
  },
  {
   "cell_type": "markdown",
   "metadata": {},
   "source": [
    "***"
   ]
  }
 ],
 "metadata": {
  "kernelspec": {
   "display_name": "Python 3",
   "language": "python",
   "name": "python3"
  },
  "language_info": {
   "codemirror_mode": {
    "name": "ipython",
    "version": 3
   },
   "file_extension": ".py",
   "mimetype": "text/x-python",
   "name": "python",
   "nbconvert_exporter": "python",
   "pygments_lexer": "ipython3",
   "version": "3.11.5"
  },
  "orig_nbformat": 4
 },
 "nbformat": 4,
 "nbformat_minor": 2
}
